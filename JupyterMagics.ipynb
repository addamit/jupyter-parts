{
 "cells": [
  {
   "cell_type": "code",
   "execution_count": 1,
   "metadata": {},
   "outputs": [],
   "source": [
    "from IPython.core.magic import register_line_magic, register_cell_magic"
   ]
  },
  {
   "cell_type": "code",
   "execution_count": 2,
   "metadata": {},
   "outputs": [],
   "source": [
    "#create a function and decorate it as a line magic\n",
    "@register_line_magic\n",
    "def namaste(line):\n",
    "    if line == 'hello':\n",
    "        print(\"Namaste!!\")\n",
    "    else:\n",
    "        print (\"Hello hello!!\")\n",
    "\n",
    "    \n",
    "    "
   ]
  },
  {
   "cell_type": "code",
   "execution_count": 5,
   "metadata": {},
   "outputs": [
    {
     "name": "stdout",
     "output_type": "stream",
     "text": [
      "Namaste!!\n"
     ]
    }
   ],
   "source": [
    "%namaste hello"
   ]
  },
  {
   "cell_type": "code",
   "execution_count": 6,
   "metadata": {},
   "outputs": [
    {
     "name": "stdout",
     "output_type": "stream",
     "text": [
      "Hello hello!!\n"
     ]
    }
   ],
   "source": [
    "%namaste"
   ]
  },
  {
   "cell_type": "markdown",
   "metadata": {},
   "source": [
    "The above code registers a line magic with the IPython system. When you invoke the magic with the %<magicname>, the content is passed to your registered line magic without the % sign. You get the actual content in the argument. \n",
    "\n",
    "    \n",
    "In a line magic, the arguments passed must be on the same line as the magic. Hence the name line magics. \n"
   ]
  },
  {
   "cell_type": "code",
   "execution_count": 70,
   "metadata": {},
   "outputs": [],
   "source": [
    "# now lets try and create a more interesting line magic to generate an image using numpy \n",
    "from PIL import Image\n",
    "import numpy as np\n",
    "\n",
    "@register_line_magic\n",
    "def gridimage(line):\n",
    "    \n",
    "    print (line)\n",
    "    rows = 50\n",
    "    columns = 200\n",
    "    channels = 3\n",
    "    data = np.zeros([rows, columns, channels], dtype=np.uint8)\n",
    "    \n",
    "    color1 = np.random.randint(255)\n",
    "    color2 = np.random.randint(255)\n",
    "    color3 = np.random.randint(255)\n",
    "    \n",
    "    data[:50, :50 ] = [color1, 0, 0]\n",
    "    data[:50, 50:100 ] = [0,0, color2]\n",
    "    data[:50, 100:150 ] = [color3,255, 255]\n",
    "    data[:50, 150: ] = [255,0, 255]\n",
    "    img = Image.fromarray(data)\n",
    "    return img\n"
   ]
  },
  {
   "cell_type": "code",
   "execution_count": 71,
   "metadata": {},
   "outputs": [
    {
     "name": "stdout",
     "output_type": "stream",
     "text": [
      "namaste\n"
     ]
    },
    {
     "data": {
      "image/png": "[encoded data removed]",
      "text/plain": [
       "<PIL.Image.Image image mode=RGB size=200x50 at 0x207A53635C0>"
      ]
     },
     "execution_count": 71,
     "metadata": {},
     "output_type": "execute_result"
    }
   ],
   "source": [
    "%gridimage namaste"
   ]
  },
  {
   "cell_type": "code",
   "execution_count": 74,
   "metadata": {},
   "outputs": [
    {
     "data": {
      "image/png": "[encoded data removed]",
      "text/plain": [
       "<PIL.Image.Image image mode=RGB size=200x50 at 0x207A53635C0>"
      ]
     },
     "execution_count": 74,
     "metadata": {},
     "output_type": "execute_result"
    }
   ],
   "source": [
    "# To access the image in a variable, use underscore \n",
    "img = _\n",
    "img"
   ]
  },
  {
   "cell_type": "markdown",
   "metadata": {},
   "source": [
    "For cell magics, invoked with %%, you can pass multi-line data"
   ]
  },
  {
   "cell_type": "code",
   "execution_count": 60,
   "metadata": {},
   "outputs": [],
   "source": [
    "#on cell magics\n",
    "\n",
    "@register_cell_magic\n",
    "def my_todo(line, cell):\n",
    "    print (\"line: {}\".format(line))\n",
    "    print (cell)\n",
    "    "
   ]
  },
  {
   "cell_type": "code",
   "execution_count": 61,
   "metadata": {},
   "outputs": [
    {
     "name": "stdout",
     "output_type": "stream",
     "text": [
      "line: \n",
      "Hello \n",
      "Namaste\n",
      "\n"
     ]
    }
   ],
   "source": [
    "%%my_todo\n",
    "Hello \n",
    "Namaste"
   ]
  },
  {
   "cell_type": "code",
   "execution_count": 66,
   "metadata": {},
   "outputs": [],
   "source": [
    "# creating test dataframe \n",
    "import pandas as pd\n",
    "from io import StringIO\n",
    "\n",
    "@register_cell_magic\n",
    "def framer(line, cell):\n",
    "    data = StringIO(cell)\n",
    "    return pd.read_csv(data)\n",
    "    "
   ]
  },
  {
   "cell_type": "code",
   "execution_count": 67,
   "metadata": {},
   "outputs": [
    {
     "data": {
      "text/html": [
       "<div>\n",
       "<style scoped>\n",
       "    .dataframe tbody tr th:only-of-type {\n",
       "        vertical-align: middle;\n",
       "    }\n",
       "\n",
       "    .dataframe tbody tr th {\n",
       "        vertical-align: top;\n",
       "    }\n",
       "\n",
       "    .dataframe thead th {\n",
       "        text-align: right;\n",
       "    }\n",
       "</style>\n",
       "<table border=\"1\" class=\"dataframe\">\n",
       "  <thead>\n",
       "    <tr style=\"text-align: right;\">\n",
       "      <th></th>\n",
       "      <th>session</th>\n",
       "      <th>userid</th>\n",
       "      <th>productid</th>\n",
       "    </tr>\n",
       "  </thead>\n",
       "  <tbody>\n",
       "    <tr>\n",
       "      <th>0</th>\n",
       "      <td>123</td>\n",
       "      <td>amy</td>\n",
       "      <td>100</td>\n",
       "    </tr>\n",
       "    <tr>\n",
       "      <th>1</th>\n",
       "      <td>111</td>\n",
       "      <td>ravi</td>\n",
       "      <td>200</td>\n",
       "    </tr>\n",
       "    <tr>\n",
       "      <th>2</th>\n",
       "      <td>100</td>\n",
       "      <td>joe</td>\n",
       "      <td>300</td>\n",
       "    </tr>\n",
       "  </tbody>\n",
       "</table>\n",
       "</div>"
      ],
      "text/plain": [
       "   session  userid   productid\n",
       "0      123     amy         100\n",
       "1      111    ravi         200\n",
       "2      100     joe         300"
      ]
     },
     "execution_count": 67,
     "metadata": {},
     "output_type": "execute_result"
    }
   ],
   "source": [
    "%%framer\n",
    "session, userid, productid\n",
    "123, amy, 100\n",
    "111, ravi, 200\n",
    "100, joe, 300"
   ]
  },
  {
   "cell_type": "code",
   "execution_count": 69,
   "metadata": {},
   "outputs": [
    {
     "data": {
      "text/html": [
       "<div>\n",
       "<style scoped>\n",
       "    .dataframe tbody tr th:only-of-type {\n",
       "        vertical-align: middle;\n",
       "    }\n",
       "\n",
       "    .dataframe tbody tr th {\n",
       "        vertical-align: top;\n",
       "    }\n",
       "\n",
       "    .dataframe thead th {\n",
       "        text-align: right;\n",
       "    }\n",
       "</style>\n",
       "<table border=\"1\" class=\"dataframe\">\n",
       "  <thead>\n",
       "    <tr style=\"text-align: right;\">\n",
       "      <th></th>\n",
       "      <th>session</th>\n",
       "      <th>userid</th>\n",
       "      <th>productid</th>\n",
       "    </tr>\n",
       "  </thead>\n",
       "  <tbody>\n",
       "    <tr>\n",
       "      <th>0</th>\n",
       "      <td>123</td>\n",
       "      <td>amy</td>\n",
       "      <td>100</td>\n",
       "    </tr>\n",
       "    <tr>\n",
       "      <th>1</th>\n",
       "      <td>111</td>\n",
       "      <td>ravi</td>\n",
       "      <td>200</td>\n",
       "    </tr>\n",
       "    <tr>\n",
       "      <th>2</th>\n",
       "      <td>100</td>\n",
       "      <td>joe</td>\n",
       "      <td>300</td>\n",
       "    </tr>\n",
       "  </tbody>\n",
       "</table>\n",
       "</div>"
      ],
      "text/plain": [
       "   session  userid   productid\n",
       "0      123     amy         100\n",
       "1      111    ravi         200\n",
       "2      100     joe         300"
      ]
     },
     "execution_count": 69,
     "metadata": {},
     "output_type": "execute_result"
    }
   ],
   "source": [
    "# and to access the data in a variable, we use the underscore variable\n",
    "df = _\n",
    "df"
   ]
  },
  {
   "cell_type": "markdown",
   "metadata": {},
   "source": [
    "Now lets put all our magics in a python module so the extension can be loaded in other notebooks. \n",
    "Jupyter extension system expects us to define a function by name `load_ipython_extension(ipython)`.   \n",
    "This function will be called by Jupyter extension system to do the actual magic registration. \n",
    "\n",
    "Note we use another magic to actually write a new file using `%%writefile filename.py` magic"
   ]
  },
  {
   "cell_type": "code",
   "execution_count": 77,
   "metadata": {},
   "outputs": [
    {
     "name": "stdout",
     "output_type": "stream",
     "text": [
      "Writing custommagics.py\n"
     ]
    }
   ],
   "source": [
    "%%writefile custommagics.py\n",
    "\n",
    "from PIL import Image\n",
    "import numpy as np\n",
    "import pandas as pd\n",
    "from io import StringIO\n",
    "\n",
    "\n",
    "## line magic\n",
    "\n",
    "def gridimage(line):\n",
    "    \n",
    "    print (line)\n",
    "    rows = 50\n",
    "    columns = 200\n",
    "    channels = 3\n",
    "    data = np.zeros([rows, columns, channels], dtype=np.uint8)\n",
    "    \n",
    "    color1 = np.random.randint(255)\n",
    "    color2 = np.random.randint(255)\n",
    "    color3 = np.random.randint(255)\n",
    "    \n",
    "    data[:50, :50 ] = [color1, 0, 0]\n",
    "    data[:50, 50:100 ] = [0,0, color2]\n",
    "    data[:50, 100:150 ] = [color3,255, 255]\n",
    "    data[:50, 150: ] = [255,0, 255]\n",
    "    img = Image.fromarray(data)\n",
    "    return img\n",
    "\n",
    "## cell magic\n",
    "\n",
    "def framer(line, cell):\n",
    "    data = StringIO(cell)\n",
    "    return pd.read_csv(data)\n",
    "\n",
    "\n",
    "\n",
    "def load_ipython_extension(ipython):\n",
    "    ipython.register_magic_function(gridimage, 'line')\n",
    "    ipython.register_magic_function(framer, 'cell')\n",
    "    \n",
    "    "
   ]
  },
  {
   "cell_type": "markdown",
   "metadata": {},
   "source": [
    "As a test, load the magic in a brand new notebook using command:  \n",
    "`%load_ext custommagics.py`  \n",
    "And then try out `%gridimage 1` or `%%framer` magics "
   ]
  }
 ],
 "metadata": {
  "kernelspec": {
   "display_name": "Python 3",
   "language": "python",
   "name": "python3"
  },
  "language_info": {
   "codemirror_mode": {
    "name": "ipython",
    "version": 3
   },
   "file_extension": ".py",
   "mimetype": "text/x-python",
   "name": "python",
   "nbconvert_exporter": "python",
   "pygments_lexer": "ipython3",
   "version": "3.6.5"
  }
 },
 "nbformat": 4,
 "nbformat_minor": 4
}
