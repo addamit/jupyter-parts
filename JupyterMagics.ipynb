{
 "cells": [
  {
   "cell_type": "code",
   "execution_count": 1,
   "metadata": {},
   "outputs": [],
   "source": [
    "from IPython.core.magic import register_line_magic, register_cell_magic"
   ]
  },
  {
   "cell_type": "code",
   "execution_count": 2,
   "metadata": {},
   "outputs": [],
   "source": [
    "#create a function and decorate it as a line magic\n",
    "@register_line_magic\n",
    "def namaste(line):\n",
    "    if line == 'hello':\n",
    "        print(\"Namaste!!\")\n",
    "    else:\n",
    "        print (\"Hello hello!!\")\n",
    "\n",
    "    \n",
    "    "
   ]
  },
  {
   "cell_type": "code",
   "execution_count": 5,
   "metadata": {},
   "outputs": [
    {
     "name": "stdout",
     "output_type": "stream",
     "text": [
      "Namaste!!\n"
     ]
    }
   ],
   "source": [
    "%namaste hello"
   ]
  },
  {
   "cell_type": "code",
   "execution_count": 6,
   "metadata": {},
   "outputs": [
    {
     "name": "stdout",
     "output_type": "stream",
     "text": [
      "Hello hello!!\n"
     ]
    }
   ],
   "source": [
    "%namaste"
   ]
  },
  {
   "cell_type": "code",
   "execution_count": 39,
   "metadata": {},
   "outputs": [],
   "source": [
    "# now lets try and create a more interesting line magic to generate an image using numpy \n",
    "from PIL import Image\n",
    "import numpy as np\n",
    "\n",
    "@register_line_magic\n",
    "def gridimage(line):\n",
    "    \n",
    "    print (line)\n",
    "    rows = 50\n",
    "    columns = 200\n",
    "    channels = 3\n",
    "    data = np.zeros([rows, columns, channels], dtype=np.uint8)\n",
    "    \n",
    "    color1 = np.random.randint(255)\n",
    "    color2 = np.random.randint(255)\n",
    "    color3 = np.random.randint(255)\n",
    "    \n",
    "    data[:50, :50 ] = [color1, 0, 0]\n",
    "    data[:50, 50:100 ] = [0,0, color2]\n",
    "    data[:50, 100:150 ] = [color3,255, 255]\n",
    "    data[:50, 150: ] = [255,0, 255]\n",
    "    img = Image.fromarray(data)\n",
    "    return img\n"
   ]
  },
  {
   "cell_type": "code",
   "execution_count": 45,
   "metadata": {},
   "outputs": [
    {
     "name": "stdout",
     "output_type": "stream",
     "text": [
      "namaste\n"
     ]
    },
    {
     "data": {
      "image/png": "[encoded data removed]",
      "text/plain": [
       "<PIL.Image.Image image mode=RGB size=200x50 at 0x207AEFB1710>"
      ]
     },
     "execution_count": 45,
     "metadata": {},
     "output_type": "execute_result"
    }
   ],
   "source": [
    "%gridimage namaste"
   ]
  },
  {
   "cell_type": "code",
   "execution_count": 55,
   "metadata": {},
   "outputs": [],
   "source": [
    "#on cell magics\n",
    "\n",
    "@register_cell_magic\n",
    "def my_todo(line, cell):\n",
    "    print (\"line: {}\".format(line))\n",
    "    print (cell)\n",
    "    "
   ]
  },
  {
   "cell_type": "code",
   "execution_count": 56,
   "metadata": {},
   "outputs": [
    {
     "name": "stdout",
     "output_type": "stream",
     "text": [
      "line: \n",
      "Hello \n",
      "Namaste\n",
      "\n"
     ]
    }
   ],
   "source": [
    "%%my_todo\n",
    "Hello \n",
    "Namaste"
   ]
  }
 ],
 "metadata": {
  "kernelspec": {
   "display_name": "Python 3",
   "language": "python",
   "name": "python3"
  },
  "language_info": {
   "codemirror_mode": {
    "name": "ipython",
    "version": 3
   },
   "file_extension": ".py",
   "mimetype": "text/x-python",
   "name": "python",
   "nbconvert_exporter": "python",
   "pygments_lexer": "ipython3",
   "version": "3.6.5"
  }
 },
 "nbformat": 4,
 "nbformat_minor": 4
}
