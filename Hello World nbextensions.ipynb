{
 "cells": [
  {
   "cell_type": "markdown",
   "metadata": {},
   "source": [
    "\n",
    "# Hello World for nbextension \n",
    "### Can we create a simple javascript and have it automatically loaded by jupyter browser?\n",
    "\n"
   ]
  },
  {
   "cell_type": "code",
   "execution_count": 18,
   "metadata": {},
   "outputs": [
    {
     "name": "stdout",
     "output_type": "stream",
     "text": [
      "mkdir: nbextensions: File exists\r\n"
     ]
    }
   ],
   "source": [
    "%mkdir nbextensions\n"
   ]
  },
  {
   "cell_type": "markdown",
   "metadata": {},
   "source": [
    "The name of the folder `nbextensions` is important. All custom extensions will be looked up here.  \n",
    "\n",
    "\n",
    "Now lets create a simple hello world javascript inside this folder\n"
   ]
  },
  {
   "cell_type": "code",
   "execution_count": 25,
   "metadata": {},
   "outputs": [
    {
     "name": "stdout",
     "output_type": "stream",
     "text": [
      "Overwriting nbextensions/helloworld.js\n"
     ]
    }
   ],
   "source": [
    "%%writefile nbextensions/helloworld.js\n",
    "\n",
    "define(function(){\n",
    "\n",
    "    function load_ipython_extension(){\n",
    "        console.info('HELLO WORLD!!!');\n",
    "    }\n",
    "\n",
    "    return {\n",
    "        load_ipython_extension: load_ipython_extension\n",
    "    };\n",
    "});\n",
    "\n"
   ]
  },
  {
   "cell_type": "markdown",
   "metadata": {},
   "source": [
    "# Installing the extension "
   ]
  },
  {
   "cell_type": "code",
   "execution_count": 26,
   "metadata": {},
   "outputs": [
    {
     "data": {
      "text/plain": [
       "['Out of date: /Users/am/Library/Jupyter/nbextensions/helloworld.js',\n",
       " 'Copying: nbextensions/helloworld.js -> /Users/am/Library/Jupyter/nbextensions/helloworld.js',\n",
       " '',\n",
       " '    To initialize this nbextension in the browser every time the notebook (or other app) loads:',\n",
       " '    ',\n",
       " '          jupyter nbextension enable <the entry point> --user',\n",
       " '    ']"
      ]
     },
     "execution_count": 26,
     "metadata": {},
     "output_type": "execute_result"
    }
   ],
   "source": [
    "%%system\n",
    "jupyter nbextension install nbextensions/helloworld.js --user"
   ]
  },
  {
   "cell_type": "markdown",
   "metadata": {},
   "source": [
    "# Enabling the extension "
   ]
  },
  {
   "cell_type": "code",
   "execution_count": 27,
   "metadata": {},
   "outputs": [
    {
     "data": {
      "text/plain": [
       "['Enabling notebook extension helloworld.js...',\n",
       " '      - Validating: problems found:',\n",
       " '        - require? \\x1b[31m X\\x1b[0m helloworld.js']"
      ]
     },
     "execution_count": 27,
     "metadata": {},
     "output_type": "execute_result"
    }
   ],
   "source": [
    "%%system\n",
    "jupyter nbextension enable helloworld.js --user "
   ]
  },
  {
   "cell_type": "markdown",
   "metadata": {},
   "source": [
    "This enables the nbextension is the user config file"
   ]
  },
  {
   "cell_type": "code",
   "execution_count": 24,
   "metadata": {},
   "outputs": [
    {
     "data": {
      "text/plain": [
       "['{',\n",
       " '  \"load_extensions\": {',\n",
       " '    \"canopy/training/exercise\": true,',\n",
       " '    \"main2.js\": true,',\n",
       " '    \"nbextensions/personalgist.js\": true,',\n",
       " '    \"appify.js\": true,',\n",
       " '    \"helloworld.js\": true,',\n",
       " '    \"helloworld2.js\": true',\n",
       " '  }',\n",
       " '}']"
      ]
     },
     "execution_count": 24,
     "metadata": {},
     "output_type": "execute_result"
    }
   ],
   "source": [
    "%system cat ~/.jupyter/nbconfig/notebook.json \n"
   ]
  },
  {
   "cell_type": "markdown",
   "metadata": {},
   "source": [
    "### Open Dev Console in the browser and verify you see the text  \n",
    "`HELLO WORLD!!!`  "
   ]
  }
 ],
 "metadata": {
  "kernelspec": {
   "display_name": "Python 3",
   "language": "python",
   "name": "python3"
  },
  "language_info": {
   "codemirror_mode": {
    "name": "ipython",
    "version": 3
   },
   "file_extension": ".py",
   "mimetype": "text/x-python",
   "name": "python",
   "nbconvert_exporter": "python",
   "pygments_lexer": "ipython3",
   "version": "3.7.4"
  }
 },
 "nbformat": 4,
 "nbformat_minor": 2
}
