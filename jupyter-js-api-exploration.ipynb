{
 "cells": [
  {
   "cell_type": "markdown",
   "metadata": {
    "hide_input": false
   },
   "source": [
    "### This notebook explore the UI API"
   ]
  },
  {
   "cell_type": "markdown",
   "metadata": {
    "hide_input": true
   },
   "source": [
    "# API referenced from Jupyter sources from here\n",
    "# https://github.com/jupyter/notebook/blob/master/notebook/static/notebook/js/main.js"
   ]
  },
  {
   "cell_type": "code",
   "execution_count": 29,
   "metadata": {
    "hide_input": true
   },
   "outputs": [
    {
     "data": {
      "application/javascript": [
       "var cell = Jupyter.notebook.get_selected_cell();\n",
       "cell.element.find(\"div.input\").toggle('slow');\n",
       "cell.metadata.hide_input = ! cell.metadata.hide_input;\n"
      ],
      "text/plain": [
       "<IPython.core.display.Javascript object>"
      ]
     },
     "metadata": {},
     "output_type": "display_data"
    }
   ],
   "source": [
    "%%javascript\n",
    "var cell = Jupyter.notebook.get_selected_cell();\n",
    "cell.element.find(\"div.input\").toggle('slow');\n",
    "cell.metadata.hide_input = ! cell.metadata.hide_input;"
   ]
  },
  {
   "cell_type": "code",
   "execution_count": 6,
   "metadata": {
    "hide_input": false
   },
   "outputs": [
    {
     "data": {
      "application/javascript": [
       "var cell = Jupyter.notebook.get_selected_cell();\n",
       "cell.element.find(\"div.input\").toggle('slow');\n",
       "cell.metadata.hide_input = ! cell.metadata.hide_input;\n"
      ],
      "text/plain": [
       "<IPython.core.display.Javascript object>"
      ]
     },
     "metadata": {},
     "output_type": "display_data"
    }
   ],
   "source": [
    "%%javascript\n",
    "var cell = Jupyter.notebook.get_selected_cell();\n",
    "cell.element.find(\"div.input\").toggle('slow');\n",
    "cell.metadata.hide_input = ! cell.metadata.hide_input;"
   ]
  },
  {
   "cell_type": "code",
   "execution_count": 30,
   "metadata": {
    "hide_input": true
   },
   "outputs": [
    {
     "data": {
      "application/javascript": [
       "var txt = Jupyter.notebook.get_cell(4).get_text();\n",
       "console.log(txt);\n",
       "\n",
       "// number of cells \n",
       "console.log(Jupyter.notebook.ncells());\n",
       "\n",
       "// cell type - markdown or code or raw\n",
       "Jupyter.notebook.get_cell(2).cell_type;\n",
       "\n",
       "// selected cell\n",
       "Jupyter.notebook.get_selected_cell();\n",
       "\n",
       "//execute any given cell \n",
       "var cell = Jupyter.notebook.get_cell(2);\n",
       "// cell.execute();\n",
       "\n",
       "// inserting a cell below a selected cell\n",
       "Jupyter.notebook.insert_cell_below();\n"
      ],
      "text/plain": [
       "<IPython.core.display.Javascript object>"
      ]
     },
     "metadata": {},
     "output_type": "display_data"
    }
   ],
   "source": [
    "%%javascript\n",
    "var txt = Jupyter.notebook.get_cell(4).get_text();\n",
    "console.log(txt);\n",
    "\n",
    "// number of cells \n",
    "console.log(Jupyter.notebook.ncells());\n",
    "\n",
    "// cell type - markdown or code or raw\n",
    "Jupyter.notebook.get_cell(2).cell_type;\n",
    "\n",
    "// selected cell\n",
    "Jupyter.notebook.get_selected_cell();\n",
    "\n",
    "//execute any given cell \n",
    "var cell = Jupyter.notebook.get_cell(2);\n",
    "// cell.execute();\n",
    "\n",
    "// inserting a cell below a selected cell\n",
    "Jupyter.notebook.insert_cell_below();\n",
    "\n",
    "// getting selected cell index\n",
    "Jupyter.notebook.get_selected_index()\n",
    "\n",
    "// get selected cell \n",
    "Jupyter.notebook.get_selected_cell()"
   ]
  },
  {
   "cell_type": "code",
   "execution_count": null,
   "metadata": {},
   "outputs": [],
   "source": []
  },
  {
   "cell_type": "code",
   "execution_count": null,
   "metadata": {},
   "outputs": [],
   "source": []
  },
  {
   "cell_type": "code",
   "execution_count": null,
   "metadata": {},
   "outputs": [],
   "source": []
  }
 ],
 "metadata": {
  "kernelspec": {
   "display_name": "Python 3",
   "language": "python",
   "name": "python3"
  },
  "language_info": {
   "codemirror_mode": {
    "name": "ipython",
    "version": 3
   },
   "file_extension": ".py",
   "mimetype": "text/x-python",
   "name": "python",
   "nbconvert_exporter": "python",
   "pygments_lexer": "ipython3",
   "version": "3.6.5"
  }
 },
 "nbformat": 4,
 "nbformat_minor": 4
}
